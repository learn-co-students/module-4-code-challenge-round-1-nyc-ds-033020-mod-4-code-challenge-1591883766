{
 "cells": [
  {
   "cell_type": "markdown",
   "metadata": {
    "slideshow": {
     "slide_type": "slide"
    }
   },
   "source": [
    "# Module 4 Code Challenge"
   ]
  },
  {
   "cell_type": "markdown",
   "metadata": {},
   "source": [
    "This code challenge is designed to test your understanding of the Module 4 material. It covers:\n",
    "\n",
    "* Principal Component Analysis\n",
    "* Clustering\n",
    "* Time Series\n",
    "* Natural Language Processing\n",
    "\n",
    "_Read the instructions carefully._ You will be asked both to write code and respond to a few short answer questions.\n",
    "\n",
    "The goal here is to demonstrate your knowledge. Showing that you know things about certain concepts is more important than getting the best model. You can use any libraries you want to solve the problems in the assessment. \n",
    "\n",
    "### Note on the short answer questions\n",
    "\n",
    "For the short answer questions, _please use your own words._ The expectation is that you have **not** copied and pasted from an external source, even if you consult another source to help craft your response. While the short answer questions are not necessarily being assessed on grammatical correctness or sentence structure, you should do your best to communicate yourself clearly."
   ]
  },
  {
   "cell_type": "markdown",
   "metadata": {},
   "source": [
    "---\n",
    "\n",
    "## Part 1: Principal Component Analysis [Suggested Time: 15 minutes]\n",
    "\n",
    "---\n",
    "\n",
    "In the first part of the code challenge, you'll apply the unsupervised learning technique of Principal Component Analysis to the wine dataset. \n",
    "\n",
    "We load the wine dataset for you in the cell below. "
   ]
  },
  {
   "cell_type": "code",
   "execution_count": 1,
   "metadata": {},
   "outputs": [
    {
     "data": {
      "text/html": [
       "<div>\n",
       "<style scoped>\n",
       "    .dataframe tbody tr th:only-of-type {\n",
       "        vertical-align: middle;\n",
       "    }\n",
       "\n",
       "    .dataframe tbody tr th {\n",
       "        vertical-align: top;\n",
       "    }\n",
       "\n",
       "    .dataframe thead th {\n",
       "        text-align: right;\n",
       "    }\n",
       "</style>\n",
       "<table border=\"1\" class=\"dataframe\">\n",
       "  <thead>\n",
       "    <tr style=\"text-align: right;\">\n",
       "      <th></th>\n",
       "      <th>alcohol</th>\n",
       "      <th>malic_acid</th>\n",
       "      <th>ash</th>\n",
       "      <th>alcalinity_of_ash</th>\n",
       "      <th>magnesium</th>\n",
       "      <th>total_phenols</th>\n",
       "      <th>flavanoids</th>\n",
       "      <th>nonflavanoid_phenols</th>\n",
       "      <th>proanthocyanins</th>\n",
       "      <th>color_intensity</th>\n",
       "      <th>hue</th>\n",
       "      <th>od280/od315_of_diluted_wines</th>\n",
       "      <th>proline</th>\n",
       "    </tr>\n",
       "  </thead>\n",
       "  <tbody>\n",
       "    <tr>\n",
       "      <td>0</td>\n",
       "      <td>0.628447</td>\n",
       "      <td>1.081206</td>\n",
       "      <td>-0.652127</td>\n",
       "      <td>0.000000</td>\n",
       "      <td>-0.841477</td>\n",
       "      <td>-1.003358</td>\n",
       "      <td>-1.517062</td>\n",
       "      <td>1.711448</td>\n",
       "      <td>-1.230771</td>\n",
       "      <td>0.333174</td>\n",
       "      <td>-0.641378</td>\n",
       "      <td>-1.070901</td>\n",
       "      <td>-0.518219</td>\n",
       "    </tr>\n",
       "    <tr>\n",
       "      <td>1</td>\n",
       "      <td>-0.540882</td>\n",
       "      <td>-0.612994</td>\n",
       "      <td>-1.427534</td>\n",
       "      <td>0.288180</td>\n",
       "      <td>-1.037487</td>\n",
       "      <td>-0.112585</td>\n",
       "      <td>-0.086751</td>\n",
       "      <td>-0.350476</td>\n",
       "      <td>-0.195036</td>\n",
       "      <td>-0.933495</td>\n",
       "      <td>0.346530</td>\n",
       "      <td>1.330768</td>\n",
       "      <td>-0.215063</td>\n",
       "    </tr>\n",
       "    <tr>\n",
       "      <td>2</td>\n",
       "      <td>-0.755657</td>\n",
       "      <td>-1.287031</td>\n",
       "      <td>-1.538306</td>\n",
       "      <td>-1.354445</td>\n",
       "      <td>2.294697</td>\n",
       "      <td>-0.573329</td>\n",
       "      <td>-0.156280</td>\n",
       "      <td>-0.112562</td>\n",
       "      <td>2.014532</td>\n",
       "      <td>-0.722384</td>\n",
       "      <td>0.432435</td>\n",
       "      <td>-0.398434</td>\n",
       "      <td>0.041960</td>\n",
       "    </tr>\n",
       "    <tr>\n",
       "      <td>3</td>\n",
       "      <td>0.377877</td>\n",
       "      <td>-0.694972</td>\n",
       "      <td>1.747940</td>\n",
       "      <td>-1.152719</td>\n",
       "      <td>0.595936</td>\n",
       "      <td>0.501741</td>\n",
       "      <td>0.668135</td>\n",
       "      <td>-0.191866</td>\n",
       "      <td>-0.402183</td>\n",
       "      <td>-0.171658</td>\n",
       "      <td>0.561293</td>\n",
       "      <td>0.246586</td>\n",
       "      <td>0.470333</td>\n",
       "    </tr>\n",
       "    <tr>\n",
       "      <td>4</td>\n",
       "      <td>-0.803385</td>\n",
       "      <td>0.388952</td>\n",
       "      <td>-0.541355</td>\n",
       "      <td>-0.432270</td>\n",
       "      <td>-0.841477</td>\n",
       "      <td>0.271369</td>\n",
       "      <td>0.241029</td>\n",
       "      <td>-0.905609</td>\n",
       "      <td>0.685339</td>\n",
       "      <td>-1.296056</td>\n",
       "      <td>0.819008</td>\n",
       "      <td>0.960225</td>\n",
       "      <td>-1.473819</td>\n",
       "    </tr>\n",
       "  </tbody>\n",
       "</table>\n",
       "</div>"
      ],
      "text/plain": [
       "    alcohol  malic_acid       ash  alcalinity_of_ash  magnesium  \\\n",
       "0  0.628447    1.081206 -0.652127           0.000000  -0.841477   \n",
       "1 -0.540882   -0.612994 -1.427534           0.288180  -1.037487   \n",
       "2 -0.755657   -1.287031 -1.538306          -1.354445   2.294697   \n",
       "3  0.377877   -0.694972  1.747940          -1.152719   0.595936   \n",
       "4 -0.803385    0.388952 -0.541355          -0.432270  -0.841477   \n",
       "\n",
       "   total_phenols  flavanoids  nonflavanoid_phenols  proanthocyanins  \\\n",
       "0      -1.003358   -1.517062              1.711448        -1.230771   \n",
       "1      -0.112585   -0.086751             -0.350476        -0.195036   \n",
       "2      -0.573329   -0.156280             -0.112562         2.014532   \n",
       "3       0.501741    0.668135             -0.191866        -0.402183   \n",
       "4       0.271369    0.241029             -0.905609         0.685339   \n",
       "\n",
       "   color_intensity       hue  od280/od315_of_diluted_wines   proline  \n",
       "0         0.333174 -0.641378                     -1.070901 -0.518219  \n",
       "1        -0.933495  0.346530                      1.330768 -0.215063  \n",
       "2        -0.722384  0.432435                     -0.398434  0.041960  \n",
       "3        -0.171658  0.561293                      0.246586  0.470333  \n",
       "4        -1.296056  0.819008                      0.960225 -1.473819  "
      ]
     },
     "execution_count": 1,
     "metadata": {},
     "output_type": "execute_result"
    }
   ],
   "source": [
    "# Run this cell without changes\n",
    "\n",
    "# Relevant imports\n",
    "import pandas as pd\n",
    "import warnings\n",
    "from sklearn.datasets import load_wine\n",
    "from sklearn.model_selection import train_test_split\n",
    "from sklearn.preprocessing import StandardScaler\n",
    "\n",
    "# Supress warnings\n",
    "warnings.simplefilter(\"ignore\")\n",
    "\n",
    "# Load data\n",
    "wine = load_wine()\n",
    "X, y = load_wine(return_X_y=True)\n",
    "X = pd.DataFrame(X, columns=wine.feature_names)\n",
    "y = pd.Series(y)\n",
    "y.name = 'class'\n",
    "\n",
    "# Train-test split\n",
    "X_train, X_test, y_train, y_test = train_test_split(X, y, test_size=0.3, random_state=42)\n",
    "\n",
    "# Scaling\n",
    "scaler_1 = StandardScaler()\n",
    "X_train_scaled = pd.DataFrame(scaler_1.fit_transform(X_train), columns=X_train.columns)\n",
    "\n",
    "# Inspect the first five rows of the scaled dataset\n",
    "X_train_scaled.head()"
   ]
  },
  {
   "cell_type": "markdown",
   "metadata": {},
   "source": [
    "### 1.1) Fit PCA to the training data\n",
    "\n",
    "Call the PCA instance you'll create `wine_pca`. Set `n_components=0.9` and make sure to use `random_state = 42`.\n",
    "\n",
    "_Make sure you are using the **preprocessed data!**_"
   ]
  },
  {
   "cell_type": "code",
   "execution_count": 2,
   "metadata": {},
   "outputs": [],
   "source": [
    "# Your code here\n",
    "from sklearn.decomposition import PCA\n",
    "wine_pca = PCA(n_components = 0.9, random_state = 42)\n",
    "principals = wine_pca.fit_transform(X_train_scaled)\n",
    "pca_df = pd.DataFrame(data = principals)"
   ]
  },
  {
   "cell_type": "code",
   "execution_count": 3,
   "metadata": {},
   "outputs": [
    {
     "data": {
      "text/html": [
       "<div>\n",
       "<style scoped>\n",
       "    .dataframe tbody tr th:only-of-type {\n",
       "        vertical-align: middle;\n",
       "    }\n",
       "\n",
       "    .dataframe tbody tr th {\n",
       "        vertical-align: top;\n",
       "    }\n",
       "\n",
       "    .dataframe thead th {\n",
       "        text-align: right;\n",
       "    }\n",
       "</style>\n",
       "<table border=\"1\" class=\"dataframe\">\n",
       "  <thead>\n",
       "    <tr style=\"text-align: right;\">\n",
       "      <th></th>\n",
       "      <th>0</th>\n",
       "      <th>1</th>\n",
       "      <th>2</th>\n",
       "      <th>3</th>\n",
       "      <th>4</th>\n",
       "      <th>5</th>\n",
       "      <th>6</th>\n",
       "      <th>7</th>\n",
       "    </tr>\n",
       "  </thead>\n",
       "  <tbody>\n",
       "    <tr>\n",
       "      <td>0</td>\n",
       "      <td>-3.006949</td>\n",
       "      <td>-0.440982</td>\n",
       "      <td>-0.841225</td>\n",
       "      <td>0.340377</td>\n",
       "      <td>-1.173705</td>\n",
       "      <td>0.574376</td>\n",
       "      <td>0.495014</td>\n",
       "      <td>0.091746</td>\n",
       "    </tr>\n",
       "    <tr>\n",
       "      <td>1</td>\n",
       "      <td>0.478492</td>\n",
       "      <td>1.990401</td>\n",
       "      <td>-0.689619</td>\n",
       "      <td>0.427103</td>\n",
       "      <td>-0.360292</td>\n",
       "      <td>-0.533502</td>\n",
       "      <td>-0.010762</td>\n",
       "      <td>0.274893</td>\n",
       "    </tr>\n",
       "    <tr>\n",
       "      <td>2</td>\n",
       "      <td>1.406608</td>\n",
       "      <td>0.773276</td>\n",
       "      <td>-1.547031</td>\n",
       "      <td>-1.530376</td>\n",
       "      <td>1.808724</td>\n",
       "      <td>2.374277</td>\n",
       "      <td>-0.418017</td>\n",
       "      <td>0.092185</td>\n",
       "    </tr>\n",
       "    <tr>\n",
       "      <td>3</td>\n",
       "      <td>1.378122</td>\n",
       "      <td>-0.678679</td>\n",
       "      <td>0.637309</td>\n",
       "      <td>-1.015856</td>\n",
       "      <td>-0.617612</td>\n",
       "      <td>-0.429807</td>\n",
       "      <td>0.468740</td>\n",
       "      <td>-0.955370</td>\n",
       "    </tr>\n",
       "    <tr>\n",
       "      <td>4</td>\n",
       "      <td>0.803241</td>\n",
       "      <td>2.298979</td>\n",
       "      <td>-0.213368</td>\n",
       "      <td>1.173377</td>\n",
       "      <td>0.473106</td>\n",
       "      <td>-0.132372</td>\n",
       "      <td>0.657271</td>\n",
       "      <td>0.212064</td>\n",
       "    </tr>\n",
       "    <tr>\n",
       "      <td>...</td>\n",
       "      <td>...</td>\n",
       "      <td>...</td>\n",
       "      <td>...</td>\n",
       "      <td>...</td>\n",
       "      <td>...</td>\n",
       "      <td>...</td>\n",
       "      <td>...</td>\n",
       "      <td>...</td>\n",
       "    </tr>\n",
       "    <tr>\n",
       "      <td>119</td>\n",
       "      <td>1.664532</td>\n",
       "      <td>1.148479</td>\n",
       "      <td>1.840976</td>\n",
       "      <td>0.277946</td>\n",
       "      <td>-0.628004</td>\n",
       "      <td>-1.479020</td>\n",
       "      <td>-0.034486</td>\n",
       "      <td>1.933755</td>\n",
       "    </tr>\n",
       "    <tr>\n",
       "      <td>120</td>\n",
       "      <td>-0.260845</td>\n",
       "      <td>2.058208</td>\n",
       "      <td>-0.666437</td>\n",
       "      <td>0.450632</td>\n",
       "      <td>-0.467165</td>\n",
       "      <td>-0.167303</td>\n",
       "      <td>-0.319556</td>\n",
       "      <td>0.124863</td>\n",
       "    </tr>\n",
       "    <tr>\n",
       "      <td>121</td>\n",
       "      <td>4.225384</td>\n",
       "      <td>-2.401430</td>\n",
       "      <td>-1.045321</td>\n",
       "      <td>0.630063</td>\n",
       "      <td>-0.944982</td>\n",
       "      <td>0.961456</td>\n",
       "      <td>-0.578379</td>\n",
       "      <td>0.274131</td>\n",
       "    </tr>\n",
       "    <tr>\n",
       "      <td>122</td>\n",
       "      <td>-1.758083</td>\n",
       "      <td>1.561886</td>\n",
       "      <td>-0.135570</td>\n",
       "      <td>-0.159673</td>\n",
       "      <td>-1.331025</td>\n",
       "      <td>0.857865</td>\n",
       "      <td>-0.667470</td>\n",
       "      <td>0.460080</td>\n",
       "    </tr>\n",
       "    <tr>\n",
       "      <td>123</td>\n",
       "      <td>-0.093134</td>\n",
       "      <td>1.254564</td>\n",
       "      <td>0.838492</td>\n",
       "      <td>0.565299</td>\n",
       "      <td>0.472789</td>\n",
       "      <td>-0.827740</td>\n",
       "      <td>0.345878</td>\n",
       "      <td>-0.794984</td>\n",
       "    </tr>\n",
       "  </tbody>\n",
       "</table>\n",
       "<p>124 rows × 8 columns</p>\n",
       "</div>"
      ],
      "text/plain": [
       "            0         1         2         3         4         5         6  \\\n",
       "0   -3.006949 -0.440982 -0.841225  0.340377 -1.173705  0.574376  0.495014   \n",
       "1    0.478492  1.990401 -0.689619  0.427103 -0.360292 -0.533502 -0.010762   \n",
       "2    1.406608  0.773276 -1.547031 -1.530376  1.808724  2.374277 -0.418017   \n",
       "3    1.378122 -0.678679  0.637309 -1.015856 -0.617612 -0.429807  0.468740   \n",
       "4    0.803241  2.298979 -0.213368  1.173377  0.473106 -0.132372  0.657271   \n",
       "..        ...       ...       ...       ...       ...       ...       ...   \n",
       "119  1.664532  1.148479  1.840976  0.277946 -0.628004 -1.479020 -0.034486   \n",
       "120 -0.260845  2.058208 -0.666437  0.450632 -0.467165 -0.167303 -0.319556   \n",
       "121  4.225384 -2.401430 -1.045321  0.630063 -0.944982  0.961456 -0.578379   \n",
       "122 -1.758083  1.561886 -0.135570 -0.159673 -1.331025  0.857865 -0.667470   \n",
       "123 -0.093134  1.254564  0.838492  0.565299  0.472789 -0.827740  0.345878   \n",
       "\n",
       "            7  \n",
       "0    0.091746  \n",
       "1    0.274893  \n",
       "2    0.092185  \n",
       "3   -0.955370  \n",
       "4    0.212064  \n",
       "..        ...  \n",
       "119  1.933755  \n",
       "120  0.124863  \n",
       "121  0.274131  \n",
       "122  0.460080  \n",
       "123 -0.794984  \n",
       "\n",
       "[124 rows x 8 columns]"
      ]
     },
     "execution_count": 3,
     "metadata": {},
     "output_type": "execute_result"
    }
   ],
   "source": [
    "pca_df"
   ]
  },
  {
   "cell_type": "markdown",
   "metadata": {},
   "source": [
    "### 1.2) How many principal components are there in the fitted PCA object?\n",
    "\n",
    "_Hint: Look at the list of attributes of trained `PCA` objects in the [scikit-learn documentation](https://scikit-learn.org/stable/modules/generated/sklearn.decomposition.PCA.html)_"
   ]
  },
  {
   "cell_type": "code",
   "execution_count": 4,
   "metadata": {},
   "outputs": [
    {
     "name": "stdout",
     "output_type": "stream",
     "text": [
      "[[ 0.13443023 -0.25680248 -0.0113463  -0.23405337  0.15840049  0.39194918\n",
      "   0.41607649 -0.27871336  0.33129255 -0.11383282  0.29726413  0.38054255\n",
      "   0.27507157]\n",
      " [-0.49571937 -0.21988534 -0.25579499  0.09630359 -0.26616487 -0.06381624\n",
      "  -0.00971648 -0.0275335  -0.0073265  -0.54829944  0.27616688  0.15580423\n",
      "  -0.39269514]\n",
      " [-0.12605367  0.08398481  0.67171617  0.58764561  0.11734551  0.15444497\n",
      "   0.17404674  0.24065975  0.07724329 -0.06523068  0.08675172  0.17043147\n",
      "  -0.08888266]\n",
      " [ 0.04624624  0.56428416 -0.14966332 -0.00919969 -0.52679936  0.26095189\n",
      "   0.20649548  0.02063026  0.315633    0.0475105  -0.30623963  0.20186583\n",
      "  -0.17851478]\n",
      " [-0.32221478  0.18146701 -0.10436437  0.13809265  0.56500632 -0.02330903\n",
      "  -0.04544638 -0.5151111   0.29267105  0.01186302 -0.33361312 -0.05658015\n",
      "  -0.21403151]\n",
      " [-0.12108437  0.16951285 -0.19927928 -0.17513522  0.31914517 -0.07048219\n",
      "  -0.07041316  0.64832705  0.53341622 -0.02846287  0.22342025 -0.13399425\n",
      "   0.02996626]\n",
      " [ 0.24715174  0.60464068  0.10664983 -0.18701632  0.23196898 -0.15059567\n",
      "  -0.1391898  -0.10447089 -0.27803268 -0.48665512  0.23281547  0.22244261\n",
      "   0.04879138]\n",
      " [ 0.51726172 -0.01884124 -0.17894583  0.48861364 -0.13462195 -0.27271237\n",
      "  -0.13878451 -0.2518194   0.37418664  0.00999247  0.34892314 -0.13470882\n",
      "  -0.07836996]]\n",
      "8\n"
     ]
    }
   ],
   "source": [
    "# Your code here\n",
    "print(wine_pca.components_)\n",
    "print(len(wine_pca.components_))"
   ]
  },
  {
   "cell_type": "markdown",
   "metadata": {},
   "source": [
    "there are 8 princiapl components in the fitted PCA object"
   ]
  },
  {
   "cell_type": "markdown",
   "metadata": {},
   "source": [
    "### 1.3) Is PCA more useful or less useful when you have high multicollinearity among your features? Explain why."
   ]
  },
  {
   "cell_type": "code",
   "execution_count": 5,
   "metadata": {},
   "outputs": [
    {
     "data": {
      "text/plain": [
       "'\\n\\nPCA is more useful when the features have high multicolinearity because it weill reduce the amount of dimensions\\nso that there are less situations where features are colinear with one another. \\n\\n'"
      ]
     },
     "execution_count": 5,
     "metadata": {},
     "output_type": "execute_result"
    }
   ],
   "source": [
    "\"\"\"\n",
    "\n",
    "PCA is more useful when the features have high multicolinearity because it weill reduce the amount of dimensions\n",
    "so that there are less situations where features are colinear with one another. \n",
    "\n",
    "\"\"\""
   ]
  },
  {
   "cell_type": "markdown",
   "metadata": {},
   "source": [
    "--- \n",
    "\n",
    "## Part 2: Clustering [Suggested Time: 20 minutes]\n",
    "\n",
    "---\n",
    "\n",
    "This second part of the code challenge is meant to test your clustering knowledge.\n",
    "\n",
    "* If the gif doesn't run, you may access it via [this link](images/centroid.gif).\n",
    "\n",
    "<img src='images/centroid.gif'>\n",
    "\n",
    "### 2.1) Using the gif above for reference, describe the steps of the k-means clustering algorithm."
   ]
  },
  {
   "cell_type": "code",
   "execution_count": 6,
   "metadata": {},
   "outputs": [
    {
     "data": {
      "text/plain": [
       "'\\nStep 1: initialize random centroid points\\nStep 2: assign membership to each observation based on distance to the closest centroid\\nStep 3: calculate the mean distance between the points and its centroids and move the centroid to the center(mean)\\nof all its members\\nStep 4: reapeat steps 2 & 3 until there are no more changes\\n\\n'"
      ]
     },
     "execution_count": 6,
     "metadata": {},
     "output_type": "execute_result"
    }
   ],
   "source": [
    "\"\"\"\n",
    "Step 1: initialize random centroid points\n",
    "Step 2: assign membership to each observation based on distance to the closest centroid\n",
    "Step 3: calculate the mean distance between the points and its centroids and move the centroid to the center(mean)\n",
    "of all its members\n",
    "Step 4: reapeat steps 2 & 3 until there are no more changes\n",
    "\n",
    "\"\"\""
   ]
  },
  {
   "cell_type": "markdown",
   "metadata": {},
   "source": [
    "Now let's use the wine dataset again, this time for clustering.\n",
    "\n",
    "You will use scikit-learn to fit k-means clustering models, and you will determine the optimal number of clusters to use by looking at silhouette scores. "
   ]
  },
  {
   "cell_type": "markdown",
   "metadata": {},
   "source": [
    "### 2.2) Write a function called `get_labels()` that will find `k` clusters in a dataset of features `X`, and return the labels for each row of `X`. \n",
    "\n",
    "Review the doc-string in the function below to understand the requirements of this function.\n",
    "\n",
    "_Hint: Within the function, you'll need to:_\n",
    "* instantiate a k-means clustering model (use `random_state = 1` for reproducibility),\n",
    "* fit the model to the data, and\n",
    "* return the labels for each point "
   ]
  },
  {
   "cell_type": "code",
   "execution_count": 7,
   "metadata": {},
   "outputs": [],
   "source": [
    "# Replace None with appropriate code\n",
    "\n",
    "# Relevant import(s) here\n",
    "from sklearn.cluster import KMeans\n",
    "\n",
    "def get_labels(k, X):\n",
    "    \"\"\" \n",
    "    Finds the labels from a k-means clustering model \n",
    "    \n",
    "    Parameters: \n",
    "    -----------\n",
    "    k: float object\n",
    "        number of clusters to use in the k-means clustering model\n",
    "    X: Pandas DataFrame or array-like object\n",
    "        Data to cluster\n",
    "    \n",
    "    Returns: \n",
    "    --------\n",
    "    labels: array-like object\n",
    "        Labels attribute from the k-means model\n",
    "    \n",
    "    \"\"\"\n",
    "\n",
    "    \n",
    "    # Instantiate a k-means clustering model with random_state=1 and n_clusters=k\n",
    "    kmeans = KMeans(n_clusters = k, random_state = 1)\n",
    "    \n",
    "    # Fit the model to the data\n",
    "    kmeans.fit(X)\n",
    "    \n",
    "    # Return the predicted labels for each row in the data produced by the model\n",
    "    return kmeans.labels_"
   ]
  },
  {
   "cell_type": "markdown",
   "metadata": {},
   "source": [
    "In the cell below we fit the k-means algorithm to the wine data for $k$ values in the range 2 to 9 using the function you've written above. Then we obtain the silhouette scores for each trained k-means clustering model, and place the values in a list called `silhouette_scores`."
   ]
  },
  {
   "cell_type": "code",
   "execution_count": 8,
   "metadata": {},
   "outputs": [],
   "source": [
    "# Run this cell without changes\n",
    "\n",
    "from sklearn.metrics import silhouette_score\n",
    "\n",
    "# Preprocessing is needed. Scale the data\n",
    "scaler_2 = StandardScaler()\n",
    "X_scaled = scaler_2.fit_transform(X)\n",
    "\n",
    "# Create empty list for silhouette scores\n",
    "silhouette_scores = []\n",
    "\n",
    "# Range of k values to try\n",
    "k_values = range(2, 10)\n",
    "\n",
    "for k in k_values:\n",
    "    labels = get_labels(k, X_scaled)\n",
    "    score = silhouette_score(X_scaled, labels, metric='euclidean')\n",
    "    silhouette_scores.append(score)"
   ]
  },
  {
   "cell_type": "markdown",
   "metadata": {},
   "source": [
    "Next, we plot the silhouette scores obtained for each different value of $k$, against $k$, the number of clusters we asked the algorithm to find. "
   ]
  },
  {
   "cell_type": "code",
   "execution_count": 9,
   "metadata": {},
   "outputs": [
    {
     "data": {
      "image/png": "[encoded data removed]",
      "text/plain": [
       "<Figure size 432x288 with 1 Axes>"
      ]
     },
     "metadata": {
      "needs_background": "light"
     },
     "output_type": "display_data"
    }
   ],
   "source": [
    "# Run this cell without changes\n",
    "\n",
    "import matplotlib.pyplot as plt\n",
    "%matplotlib inline\n",
    "\n",
    "plt.plot(k_values, silhouette_scores, marker='o')\n",
    "plt.title('Silhouette scores vs number of clusters')\n",
    "plt.xlabel('k (number of clusters)')\n",
    "plt.ylabel('silhouette score');"
   ]
  },
  {
   "cell_type": "markdown",
   "metadata": {},
   "source": [
    "### 2.3) Which value of $k$ would you choose based on the above plot of silhouette scores? How does this number compare to the number of classes in the [wine dataset](https://scikit-learn.org/stable/modules/generated/sklearn.datasets.load_wine.html)?\n",
    "\n",
    "Hint: this number should be <= 5. If it's not, check the function written for Question 2.2."
   ]
  },
  {
   "cell_type": "code",
   "execution_count": 10,
   "metadata": {},
   "outputs": [
    {
     "data": {
      "text/plain": [
       "\"\\n\\nI would choose 3 as the value for k because that's the point on the plot where the silhouette score is the highest.\\nAfter cehcking the documentation of the wine dataset, it's disclosed that there are 3 classes, which would coincide\\nwith the observation I made from the silhouette score plot.\\n\\n\""
      ]
     },
     "execution_count": 10,
     "metadata": {},
     "output_type": "execute_result"
    }
   ],
   "source": [
    "\"\"\"\n",
    "\n",
    "I would choose 3 as the value for k because that's the point on the plot where the silhouette score is the highest.\n",
    "After cehcking the documentation of the wine dataset, it's disclosed that there are 3 classes, which would coincide\n",
    "with the observation I made from the silhouette score plot.\n",
    "\n",
    "\"\"\""
   ]
  },
  {
   "cell_type": "markdown",
   "metadata": {},
   "source": [
    "---\n",
    "\n",
    "## Part 3: Natural Language Processing [Suggested Time: 20 minutes]\n",
    "\n",
    "---\n",
    "\n",
    "In this third section we will attempt to classify text messages as \"SPAM\" or \"HAM\" using TF-IDF Vectorization. Once we successfully classify our texts we will consider how to interpret the vectorization.\n",
    "\n",
    "Complete the functions below and answer the question at the end. "
   ]
  },
  {
   "cell_type": "code",
   "execution_count": 11,
   "metadata": {},
   "outputs": [],
   "source": [
    "# Run this cell without changes\n",
    "\n",
    "# Import necessary libraries \n",
    "from sklearn.preprocessing import LabelEncoder\n",
    "from sklearn.naive_bayes import MultinomialNB\n",
    "from sklearn.ensemble import RandomForestClassifier\n",
    "from sklearn.metrics import accuracy_score, confusion_matrix\n",
    "from sklearn.feature_extraction.text import TfidfVectorizer\n",
    "import string\n",
    "import nltk\n",
    "from nltk.corpus import stopwords\n",
    "from nltk import word_tokenize\n",
    "# nltk.download('stopwords') # un-comment this if you get an error from nltk"
   ]
  },
  {
   "cell_type": "code",
   "execution_count": 12,
   "metadata": {},
   "outputs": [
    {
     "data": {
      "text/html": [
       "<div>\n",
       "<style scoped>\n",
       "    .dataframe tbody tr th:only-of-type {\n",
       "        vertical-align: middle;\n",
       "    }\n",
       "\n",
       "    .dataframe tbody tr th {\n",
       "        vertical-align: top;\n",
       "    }\n",
       "\n",
       "    .dataframe thead th {\n",
       "        text-align: right;\n",
       "    }\n",
       "</style>\n",
       "<table border=\"1\" class=\"dataframe\">\n",
       "  <thead>\n",
       "    <tr style=\"text-align: right;\">\n",
       "      <th></th>\n",
       "      <th>v1</th>\n",
       "      <th>v2</th>\n",
       "      <th>target</th>\n",
       "    </tr>\n",
       "  </thead>\n",
       "  <tbody>\n",
       "    <tr>\n",
       "      <td>0</td>\n",
       "      <td>ham</td>\n",
       "      <td>Go until jurong point, crazy.. Available only ...</td>\n",
       "      <td>0</td>\n",
       "    </tr>\n",
       "    <tr>\n",
       "      <td>1</td>\n",
       "      <td>ham</td>\n",
       "      <td>Ok lar... Joking wif u oni...</td>\n",
       "      <td>0</td>\n",
       "    </tr>\n",
       "    <tr>\n",
       "      <td>2</td>\n",
       "      <td>spam</td>\n",
       "      <td>Free entry in 2 a wkly comp to win FA Cup fina...</td>\n",
       "      <td>1</td>\n",
       "    </tr>\n",
       "    <tr>\n",
       "      <td>3</td>\n",
       "      <td>ham</td>\n",
       "      <td>U dun say so early hor... U c already then say...</td>\n",
       "      <td>0</td>\n",
       "    </tr>\n",
       "    <tr>\n",
       "      <td>4</td>\n",
       "      <td>ham</td>\n",
       "      <td>Nah I don't think he goes to usf, he lives aro...</td>\n",
       "      <td>0</td>\n",
       "    </tr>\n",
       "  </tbody>\n",
       "</table>\n",
       "</div>"
      ],
      "text/plain": [
       "     v1                                                 v2  target\n",
       "0   ham  Go until jurong point, crazy.. Available only ...       0\n",
       "1   ham                      Ok lar... Joking wif u oni...       0\n",
       "2  spam  Free entry in 2 a wkly comp to win FA Cup fina...       1\n",
       "3   ham  U dun say so early hor... U c already then say...       0\n",
       "4   ham  Nah I don't think he goes to usf, he lives aro...       0"
      ]
     },
     "execution_count": 12,
     "metadata": {},
     "output_type": "execute_result"
    }
   ],
   "source": [
    "# Run this cell without changes\n",
    "\n",
    "# Read in data\n",
    "df_messages = pd.read_csv('data/spam.csv', usecols=[0,1])\n",
    "\n",
    "# Convert string labels to 1 or 0 \n",
    "le = LabelEncoder()\n",
    "df_messages['target'] = le.fit_transform(df_messages['v1'])\n",
    "\n",
    "# Examine our data\n",
    "df_messages.head()"
   ]
  },
  {
   "cell_type": "code",
   "execution_count": 13,
   "metadata": {},
   "outputs": [],
   "source": [
    "# Run this cell without changes\n",
    "\n",
    "# Separate features and labels \n",
    "X = df_messages['v2']\n",
    "y = df_messages['target']\n",
    "\n",
    "# Generate a list of stopwords \n",
    "stopwords_list = stopwords.words('english') + list(string.punctuation)"
   ]
  },
  {
   "cell_type": "markdown",
   "metadata": {},
   "source": [
    "### 3.1) Create a function that takes in our various texts along with their respective labels and uses TF-IDF to vectorize the texts.\n",
    "\n",
    "- Review the doc-string in the function below to understand the requirements of this function.\n",
    "- Recall that TF-IDF helps us \"vectorize\" text (turn text into numbers) so we can do \"math\" with it.  It is used to quantify how relevant a term is in a given document.\n",
    "- **DO NOT** perform tokenization, removal of stop words, or TF-IDF vectorization \"by hand\".  Use `sklearn`'s `TfidfVectorizer`."
   ]
  },
  {
   "cell_type": "code",
   "execution_count": 14,
   "metadata": {},
   "outputs": [],
   "source": [
    "# X_train, X_test, y_train, y_test = train_test_split(X, y, random_state=42)\n",
    "    \n",
    "# tfidf = TfidfVectorizer(stop_words = stopwords_list)\n",
    "    \n",
    "# tf_idf_train = tfidf.fit_transform(X_train)\n",
    "# tf_idf_test = tfidf.fit(X_test)\n",
    "    \n",
    "# vectorizor = tfidf.fit(X)"
   ]
  },
  {
   "cell_type": "code",
   "execution_count": null,
   "metadata": {},
   "outputs": [],
   "source": []
  },
  {
   "cell_type": "code",
   "execution_count": null,
   "metadata": {},
   "outputs": [],
   "source": []
  },
  {
   "cell_type": "code",
   "execution_count": 15,
   "metadata": {},
   "outputs": [],
   "source": [
    "# Replace \"pass\" with appropriate code\n",
    "\n",
    "def tfidf(X, y, stopwords_list): \n",
    "    \"\"\"\n",
    "    Generate train and test TF-IDF vectorization for our data set\n",
    "    \n",
    "    Parameters\n",
    "    ----------\n",
    "    X: pandas.Series object\n",
    "        Pandas series of text documents to classify \n",
    "    y : pandas.Series object\n",
    "        Pandas series containing label for each document\n",
    "    stopwords_list: list ojbect\n",
    "        List containing words and punctuation to remove. \n",
    "    Returns\n",
    "    --------\n",
    "    tf_idf_train :  sparse matrix, [n_train_samples, n_features]\n",
    "        Vector representation of train data\n",
    "    tf_idf_test :  sparse matrix, [n_test_samples, n_features]\n",
    "        Vector representation of test data\n",
    "    y_train : array-like object\n",
    "        labels for training data\n",
    "    y_test : array-like object\n",
    "        labels for testing data\n",
    "    vectorizer : vectorizer object\n",
    "        fit TF-IDF vectorizer object\n",
    "\n",
    "    \"\"\"\n",
    "    X_train, X_test, y_train, y_test = train_test_split(X, y, random_state=42)\n",
    "    \n",
    "    tf = TfidfVectorizer(stop_words = stopwords_list)\n",
    "    \n",
    "    tf_idf_train = tf.fit_transform(X_train)\n",
    "    tf_idf_test = tf.transform(X_test)\n",
    "    \n",
    "    vectorizor = tf.fit(X_train)\n",
    "    \n",
    "    return tf_idf_train, tf_idf_test, y_train, y_test, vectorizor"
   ]
  },
  {
   "cell_type": "code",
   "execution_count": 16,
   "metadata": {
    "scrolled": true
   },
   "outputs": [],
   "source": [
    "# Run this cell without changes\n",
    "tf_idf_train, tf_idf_test, y_train, y_test, vectorizer = tfidf(X, y, stopwords_list)"
   ]
  },
  {
   "cell_type": "markdown",
   "metadata": {},
   "source": [
    "### 3.2) Complete the function below to return a list of predictions for our training set and a separate list of predictions for our test set.\n",
    "\n",
    "Now that we have a set of vectorized training data we can use this data to train a _classifier_ to learn how to classify a specific text based on the vectorized version of the text. Below we have initialized a simple Naive Bayes Classifier and Random Forest Classifier. \n",
    "\n",
    "Review the doc-string in the function below to understand the requirements of this function. The function should accept a classifier object, a vectorized training set, vectorized test set, and a list of training labels to return separate lists of predictions for the training and the test sets."
   ]
  },
  {
   "cell_type": "code",
   "execution_count": 17,
   "metadata": {},
   "outputs": [],
   "source": [
    "# Run this cell without changes\n",
    "nb_classifier = MultinomialNB()\n",
    "rf_classifier = RandomForestClassifier(n_estimators=100)"
   ]
  },
  {
   "cell_type": "code",
   "execution_count": 18,
   "metadata": {},
   "outputs": [],
   "source": [
    "# Replace None with appropriate code\n",
    "\n",
    "def classify_text(classifier, tf_idf_train, tf_idf_test, y_train):\n",
    "    \"\"\"\n",
    "    Train a classifier to identify whether a message is spam or ham\n",
    "    \n",
    "    Parameters\n",
    "    ----------\n",
    "    classifier: sklearn classifier\n",
    "       initialized sklearn classifier (MultinomialNB, RandomForestClassifier, etc.)\n",
    "    tf_idf_train : sparse matrix, [n_train_samples, n_features]\n",
    "        TF-IDF vectorization of train data\n",
    "    tf_idf_test : sparse matrix, [n_test_samples, n_features]\n",
    "        TF-IDF vectorization of test data\n",
    "    y_train : pandas.Series object\n",
    "        Pandas series containing label for each document in the train set\n",
    "    Returns\n",
    "    --------\n",
    "    train_preds :  list object\n",
    "        Predictions for train data\n",
    "    test_preds :  list object\n",
    "        Predictions for test data\n",
    "    \"\"\"\n",
    "    # Fit the classifier with our training data\n",
    "    classifier.fit(tf_idf_train, y_train)\n",
    "    \n",
    "    # Predict the labels of our train data and store them in train_preds\n",
    "    train_preds = classifier.predict(tf_idf_train)\n",
    "    \n",
    "    # Predict the labels of our test data and store them in test_preds\n",
    "    test_preds = classifier.predict(tf_idf_test)\n",
    "    \n",
    "    return train_preds, test_preds"
   ]
  },
  {
   "cell_type": "markdown",
   "metadata": {},
   "source": [
    "Generate and evaluate predictions for Naive Bayes Classifier"
   ]
  },
  {
   "cell_type": "code",
   "execution_count": 19,
   "metadata": {
    "scrolled": true
   },
   "outputs": [
    {
     "name": "stdout",
     "output_type": "stream",
     "text": [
      "[[1202    0]\n",
      " [  44  147]]\n",
      "0.968413496051687\n"
     ]
    }
   ],
   "source": [
    "# Run this cell without changes\n",
    "\n",
    "nb_train_preds, nb_test_preds = classify_text(nb_classifier, tf_idf_train, tf_idf_test, y_train)\n",
    "\n",
    "print(confusion_matrix(y_test, nb_test_preds))\n",
    "print(accuracy_score(y_test, nb_test_preds))"
   ]
  },
  {
   "cell_type": "markdown",
   "metadata": {},
   "source": [
    "Generate and evaluate predictions for Random Forest Classifier"
   ]
  },
  {
   "cell_type": "code",
   "execution_count": 20,
   "metadata": {
    "scrolled": true
   },
   "outputs": [
    {
     "name": "stdout",
     "output_type": "stream",
     "text": [
      "[[1202    0]\n",
      " [  32  159]]\n",
      "0.9770279971284996\n"
     ]
    }
   ],
   "source": [
    "# Run this cell without changes\n",
    "\n",
    "rf_train_preds, rf_test_preds = classify_text(rf_classifier, tf_idf_train, tf_idf_test, y_train)\n",
    "\n",
    "print(confusion_matrix(y_test, rf_test_preds))\n",
    "print(accuracy_score(y_test, rf_test_preds))"
   ]
  },
  {
   "cell_type": "markdown",
   "metadata": {},
   "source": [
    "You can see both classifiers do a pretty good job classifying texts as either \"SPAM\" or \"HAM\". "
   ]
  },
  {
   "cell_type": "markdown",
   "metadata": {},
   "source": [
    "### 3.3) Based on the code below, the word \"genuine\" has the highest TF-IDF value in the second document of our test data. What does that tell us about the word \"genuine\"?"
   ]
  },
  {
   "cell_type": "code",
   "execution_count": 21,
   "metadata": {},
   "outputs": [
    {
     "data": {
      "text/plain": [
       "'genuine'"
      ]
     },
     "execution_count": 21,
     "metadata": {},
     "output_type": "execute_result"
    }
   ],
   "source": [
    "# Run this cell without changes\n",
    "\n",
    "tf_idf_test_df = pd.DataFrame(tf_idf_test.toarray(), columns=vectorizer.vocabulary_.keys())\n",
    "second_doc = tf_idf_test_df.loc[1]\n",
    "second_doc.idxmax(axis=1)"
   ]
  },
  {
   "cell_type": "code",
   "execution_count": 22,
   "metadata": {},
   "outputs": [
    {
     "data": {
      "text/plain": [
       "0.3276261390912418"
      ]
     },
     "execution_count": 22,
     "metadata": {},
     "output_type": "execute_result"
    }
   ],
   "source": [
    "# Run this cell without changes\n",
    "second_doc['genuine']"
   ]
  },
  {
   "cell_type": "code",
   "execution_count": 23,
   "metadata": {},
   "outputs": [
    {
     "data": {
      "text/plain": [
       "'\\n\\nTF-IDF shows the frequency and uniquness of a word in the text, so a high TF-IDF score shows that the word is unique,\\nwhich tells us that the word genuine is an important word in the second document.\\n\\n'"
      ]
     },
     "execution_count": 23,
     "metadata": {},
     "output_type": "execute_result"
    }
   ],
   "source": [
    "\"\"\"\n",
    "\n",
    "TF-IDF shows the frequency and uniquness of a word in the text, so a high TF-IDF score shows that the word is unique,\n",
    "which tells us that the word genuine is an important word in the second document.\n",
    "\n",
    "\"\"\""
   ]
  },
  {
   "cell_type": "markdown",
   "metadata": {},
   "source": [
    "---\n",
    "\n",
    "## Part 4: Time Series [Suggested Time: 20 minutes]\n",
    "\n",
    "---\n",
    "\n",
    "<!---Create stock_df and save as .pkl\n",
    "stocks_df = pd.read_csv(\"raw_data/all_stocks_5yr.csv\")\n",
    "stocks_df[\"clean_date\"] = pd.to_datetime(stocks_df[\"date\"], format=\"%Y-%m-%d\")\n",
    "stocks_df.drop([\"date\", \"clean_date\", \"volume\", \"Name\"], axis=1, inplace=True)\n",
    "stocks_df.rename(columns={\"string_date\": \"date\"}, inplace=True)\n",
    "pickle.dump(stocks_df, open(\"write_data/all_stocks_5yr.pkl\", \"wb\"))\n",
    "--->"
   ]
  },
  {
   "cell_type": "markdown",
   "metadata": {},
   "source": [
    "Here you'll be looking at OHLC (Open, High, Low, Close) daily stock data."
   ]
  },
  {
   "cell_type": "code",
   "execution_count": 24,
   "metadata": {},
   "outputs": [
    {
     "data": {
      "text/html": [
       "<div>\n",
       "<style scoped>\n",
       "    .dataframe tbody tr th:only-of-type {\n",
       "        vertical-align: middle;\n",
       "    }\n",
       "\n",
       "    .dataframe tbody tr th {\n",
       "        vertical-align: top;\n",
       "    }\n",
       "\n",
       "    .dataframe thead th {\n",
       "        text-align: right;\n",
       "    }\n",
       "</style>\n",
       "<table border=\"1\" class=\"dataframe\">\n",
       "  <thead>\n",
       "    <tr style=\"text-align: right;\">\n",
       "      <th></th>\n",
       "      <th>open</th>\n",
       "      <th>high</th>\n",
       "      <th>low</th>\n",
       "      <th>close</th>\n",
       "      <th>date</th>\n",
       "    </tr>\n",
       "  </thead>\n",
       "  <tbody>\n",
       "    <tr>\n",
       "      <td>0</td>\n",
       "      <td>15.07</td>\n",
       "      <td>15.12</td>\n",
       "      <td>14.63</td>\n",
       "      <td>14.75</td>\n",
       "      <td>February 08, 2013</td>\n",
       "    </tr>\n",
       "    <tr>\n",
       "      <td>1</td>\n",
       "      <td>14.89</td>\n",
       "      <td>15.01</td>\n",
       "      <td>14.26</td>\n",
       "      <td>14.46</td>\n",
       "      <td>February 11, 2013</td>\n",
       "    </tr>\n",
       "    <tr>\n",
       "      <td>2</td>\n",
       "      <td>14.45</td>\n",
       "      <td>14.51</td>\n",
       "      <td>14.10</td>\n",
       "      <td>14.27</td>\n",
       "      <td>February 12, 2013</td>\n",
       "    </tr>\n",
       "    <tr>\n",
       "      <td>3</td>\n",
       "      <td>14.30</td>\n",
       "      <td>14.94</td>\n",
       "      <td>14.25</td>\n",
       "      <td>14.66</td>\n",
       "      <td>February 13, 2013</td>\n",
       "    </tr>\n",
       "    <tr>\n",
       "      <td>4</td>\n",
       "      <td>14.94</td>\n",
       "      <td>14.96</td>\n",
       "      <td>13.16</td>\n",
       "      <td>13.99</td>\n",
       "      <td>February 14, 2013</td>\n",
       "    </tr>\n",
       "  </tbody>\n",
       "</table>\n",
       "</div>"
      ],
      "text/plain": [
       "    open   high    low  close               date\n",
       "0  15.07  15.12  14.63  14.75  February 08, 2013\n",
       "1  14.89  15.01  14.26  14.46  February 11, 2013\n",
       "2  14.45  14.51  14.10  14.27  February 12, 2013\n",
       "3  14.30  14.94  14.25  14.66  February 13, 2013\n",
       "4  14.94  14.96  13.16  13.99  February 14, 2013"
      ]
     },
     "execution_count": 24,
     "metadata": {},
     "output_type": "execute_result"
    }
   ],
   "source": [
    "# Run this cell without changes\n",
    "\n",
    "import pickle\n",
    "import numpy as np\n",
    "\n",
    "from pandas.plotting import register_matplotlib_converters\n",
    "register_matplotlib_converters()\n",
    "\n",
    "stocks_df = pickle.load(open('write_data/all_stocks_5yr.pkl', 'rb'))\n",
    "stocks_df.head()"
   ]
  },
  {
   "cell_type": "markdown",
   "metadata": {},
   "source": [
    "### 4.1) Transform the `date` feature so that it becomes a `datetime` object, and set `date` to be the index of `stocks_df`.\n",
    "\n",
    "The format of the `date` feature is `'%B %d, %Y'` . Use this when converting the `date` feature to a `datetime` object in order for the code to run faster.\n",
    "\n",
    "Be sure that the `date` index of `stocks_df` is in the format: YYYY-MM-DD (should do so automatically)."
   ]
  },
  {
   "cell_type": "code",
   "execution_count": 25,
   "metadata": {},
   "outputs": [],
   "source": [
    "# Your code here\n",
    "stocks_df['date'] = pd.to_datetime(stocks_df['date'], format = '%B %d, %Y')\n",
    "stocks_df.set_index('date', inplace=True)"
   ]
  },
  {
   "cell_type": "code",
   "execution_count": 26,
   "metadata": {},
   "outputs": [
    {
     "data": {
      "text/html": [
       "<div>\n",
       "<style scoped>\n",
       "    .dataframe tbody tr th:only-of-type {\n",
       "        vertical-align: middle;\n",
       "    }\n",
       "\n",
       "    .dataframe tbody tr th {\n",
       "        vertical-align: top;\n",
       "    }\n",
       "\n",
       "    .dataframe thead th {\n",
       "        text-align: right;\n",
       "    }\n",
       "</style>\n",
       "<table border=\"1\" class=\"dataframe\">\n",
       "  <thead>\n",
       "    <tr style=\"text-align: right;\">\n",
       "      <th></th>\n",
       "      <th>open</th>\n",
       "      <th>high</th>\n",
       "      <th>low</th>\n",
       "      <th>close</th>\n",
       "    </tr>\n",
       "    <tr>\n",
       "      <th>date</th>\n",
       "      <th></th>\n",
       "      <th></th>\n",
       "      <th></th>\n",
       "      <th></th>\n",
       "    </tr>\n",
       "  </thead>\n",
       "  <tbody>\n",
       "    <tr>\n",
       "      <td>2013-02-08</td>\n",
       "      <td>15.07</td>\n",
       "      <td>15.12</td>\n",
       "      <td>14.63</td>\n",
       "      <td>14.75</td>\n",
       "    </tr>\n",
       "    <tr>\n",
       "      <td>2013-02-11</td>\n",
       "      <td>14.89</td>\n",
       "      <td>15.01</td>\n",
       "      <td>14.26</td>\n",
       "      <td>14.46</td>\n",
       "    </tr>\n",
       "    <tr>\n",
       "      <td>2013-02-12</td>\n",
       "      <td>14.45</td>\n",
       "      <td>14.51</td>\n",
       "      <td>14.10</td>\n",
       "      <td>14.27</td>\n",
       "    </tr>\n",
       "    <tr>\n",
       "      <td>2013-02-13</td>\n",
       "      <td>14.30</td>\n",
       "      <td>14.94</td>\n",
       "      <td>14.25</td>\n",
       "      <td>14.66</td>\n",
       "    </tr>\n",
       "    <tr>\n",
       "      <td>2013-02-14</td>\n",
       "      <td>14.94</td>\n",
       "      <td>14.96</td>\n",
       "      <td>13.16</td>\n",
       "      <td>13.99</td>\n",
       "    </tr>\n",
       "    <tr>\n",
       "      <td>...</td>\n",
       "      <td>...</td>\n",
       "      <td>...</td>\n",
       "      <td>...</td>\n",
       "      <td>...</td>\n",
       "    </tr>\n",
       "    <tr>\n",
       "      <td>2018-02-01</td>\n",
       "      <td>76.84</td>\n",
       "      <td>78.27</td>\n",
       "      <td>76.69</td>\n",
       "      <td>77.82</td>\n",
       "    </tr>\n",
       "    <tr>\n",
       "      <td>2018-02-02</td>\n",
       "      <td>77.53</td>\n",
       "      <td>78.12</td>\n",
       "      <td>76.73</td>\n",
       "      <td>76.78</td>\n",
       "    </tr>\n",
       "    <tr>\n",
       "      <td>2018-02-05</td>\n",
       "      <td>76.64</td>\n",
       "      <td>76.92</td>\n",
       "      <td>73.18</td>\n",
       "      <td>73.83</td>\n",
       "    </tr>\n",
       "    <tr>\n",
       "      <td>2018-02-06</td>\n",
       "      <td>72.74</td>\n",
       "      <td>74.56</td>\n",
       "      <td>72.13</td>\n",
       "      <td>73.27</td>\n",
       "    </tr>\n",
       "    <tr>\n",
       "      <td>2018-02-07</td>\n",
       "      <td>72.70</td>\n",
       "      <td>75.00</td>\n",
       "      <td>72.69</td>\n",
       "      <td>73.86</td>\n",
       "    </tr>\n",
       "  </tbody>\n",
       "</table>\n",
       "<p>619040 rows × 4 columns</p>\n",
       "</div>"
      ],
      "text/plain": [
       "             open   high    low  close\n",
       "date                                  \n",
       "2013-02-08  15.07  15.12  14.63  14.75\n",
       "2013-02-11  14.89  15.01  14.26  14.46\n",
       "2013-02-12  14.45  14.51  14.10  14.27\n",
       "2013-02-13  14.30  14.94  14.25  14.66\n",
       "2013-02-14  14.94  14.96  13.16  13.99\n",
       "...           ...    ...    ...    ...\n",
       "2018-02-01  76.84  78.27  76.69  77.82\n",
       "2018-02-02  77.53  78.12  76.73  76.78\n",
       "2018-02-05  76.64  76.92  73.18  73.83\n",
       "2018-02-06  72.74  74.56  72.13  73.27\n",
       "2018-02-07  72.70  75.00  72.69  73.86\n",
       "\n",
       "[619040 rows x 4 columns]"
      ]
     },
     "execution_count": 26,
     "metadata": {},
     "output_type": "execute_result"
    }
   ],
   "source": [
    "stocks_df"
   ]
  },
  {
   "cell_type": "markdown",
   "metadata": {},
   "source": [
    "### 4.2) Downsample `stocks_df` using the mean of the `open`, `high`, `low`, and `close` features on a monthly basis. Store the results in `stocks_monthly_df`.\n",
    "\n",
    "Hint: `stocks_monthly_df` should have 61 rows and 4 columns after you perform downsampling."
   ]
  },
  {
   "cell_type": "code",
   "execution_count": 27,
   "metadata": {},
   "outputs": [],
   "source": [
    "# Your code here\n",
    "stocks_monthly_df = stocks_df.groupby(pd.Grouper(freq='M')).mean()"
   ]
  },
  {
   "cell_type": "code",
   "execution_count": 28,
   "metadata": {},
   "outputs": [
    {
     "data": {
      "text/html": [
       "<div>\n",
       "<style scoped>\n",
       "    .dataframe tbody tr th:only-of-type {\n",
       "        vertical-align: middle;\n",
       "    }\n",
       "\n",
       "    .dataframe tbody tr th {\n",
       "        vertical-align: top;\n",
       "    }\n",
       "\n",
       "    .dataframe thead th {\n",
       "        text-align: right;\n",
       "    }\n",
       "</style>\n",
       "<table border=\"1\" class=\"dataframe\">\n",
       "  <thead>\n",
       "    <tr style=\"text-align: right;\">\n",
       "      <th></th>\n",
       "      <th>open</th>\n",
       "      <th>high</th>\n",
       "      <th>low</th>\n",
       "      <th>close</th>\n",
       "    </tr>\n",
       "    <tr>\n",
       "      <th>date</th>\n",
       "      <th></th>\n",
       "      <th></th>\n",
       "      <th></th>\n",
       "      <th></th>\n",
       "    </tr>\n",
       "  </thead>\n",
       "  <tbody>\n",
       "    <tr>\n",
       "      <td>2013-02-28</td>\n",
       "      <td>58.135082</td>\n",
       "      <td>58.656064</td>\n",
       "      <td>57.600095</td>\n",
       "      <td>58.106483</td>\n",
       "    </tr>\n",
       "    <tr>\n",
       "      <td>2013-03-31</td>\n",
       "      <td>59.430461</td>\n",
       "      <td>59.924352</td>\n",
       "      <td>58.986414</td>\n",
       "      <td>59.531515</td>\n",
       "    </tr>\n",
       "    <tr>\n",
       "      <td>2013-04-30</td>\n",
       "      <td>60.261989</td>\n",
       "      <td>60.829809</td>\n",
       "      <td>59.653234</td>\n",
       "      <td>60.294833</td>\n",
       "    </tr>\n",
       "    <tr>\n",
       "      <td>2013-05-31</td>\n",
       "      <td>63.189973</td>\n",
       "      <td>63.854413</td>\n",
       "      <td>62.681440</td>\n",
       "      <td>63.284582</td>\n",
       "    </tr>\n",
       "    <tr>\n",
       "      <td>2013-06-30</td>\n",
       "      <td>62.080930</td>\n",
       "      <td>62.672076</td>\n",
       "      <td>61.373427</td>\n",
       "      <td>61.994978</td>\n",
       "    </tr>\n",
       "    <tr>\n",
       "      <td>...</td>\n",
       "      <td>...</td>\n",
       "      <td>...</td>\n",
       "      <td>...</td>\n",
       "      <td>...</td>\n",
       "    </tr>\n",
       "    <tr>\n",
       "      <td>2017-10-31</td>\n",
       "      <td>102.854219</td>\n",
       "      <td>103.656867</td>\n",
       "      <td>102.036919</td>\n",
       "      <td>102.908070</td>\n",
       "    </tr>\n",
       "    <tr>\n",
       "      <td>2017-11-30</td>\n",
       "      <td>103.862055</td>\n",
       "      <td>104.836911</td>\n",
       "      <td>103.020190</td>\n",
       "      <td>104.014336</td>\n",
       "    </tr>\n",
       "    <tr>\n",
       "      <td>2017-12-31</td>\n",
       "      <td>106.639923</td>\n",
       "      <td>107.456124</td>\n",
       "      <td>105.682850</td>\n",
       "      <td>106.488189</td>\n",
       "    </tr>\n",
       "    <tr>\n",
       "      <td>2018-01-31</td>\n",
       "      <td>111.661892</td>\n",
       "      <td>112.707958</td>\n",
       "      <td>110.634552</td>\n",
       "      <td>111.778353</td>\n",
       "    </tr>\n",
       "    <tr>\n",
       "      <td>2018-02-28</td>\n",
       "      <td>109.520721</td>\n",
       "      <td>111.584564</td>\n",
       "      <td>107.589618</td>\n",
       "      <td>109.226602</td>\n",
       "    </tr>\n",
       "  </tbody>\n",
       "</table>\n",
       "<p>61 rows × 4 columns</p>\n",
       "</div>"
      ],
      "text/plain": [
       "                  open        high         low       close\n",
       "date                                                      \n",
       "2013-02-28   58.135082   58.656064   57.600095   58.106483\n",
       "2013-03-31   59.430461   59.924352   58.986414   59.531515\n",
       "2013-04-30   60.261989   60.829809   59.653234   60.294833\n",
       "2013-05-31   63.189973   63.854413   62.681440   63.284582\n",
       "2013-06-30   62.080930   62.672076   61.373427   61.994978\n",
       "...                ...         ...         ...         ...\n",
       "2017-10-31  102.854219  103.656867  102.036919  102.908070\n",
       "2017-11-30  103.862055  104.836911  103.020190  104.014336\n",
       "2017-12-31  106.639923  107.456124  105.682850  106.488189\n",
       "2018-01-31  111.661892  112.707958  110.634552  111.778353\n",
       "2018-02-28  109.520721  111.584564  107.589618  109.226602\n",
       "\n",
       "[61 rows x 4 columns]"
      ]
     },
     "execution_count": 28,
     "metadata": {},
     "output_type": "execute_result"
    }
   ],
   "source": [
    "stocks_monthly_df"
   ]
  },
  {
   "cell_type": "code",
   "execution_count": 29,
   "metadata": {},
   "outputs": [
    {
     "data": {
      "text/plain": [
       "(61, 4)"
      ]
     },
     "execution_count": 29,
     "metadata": {},
     "output_type": "execute_result"
    }
   ],
   "source": [
    "# Run this cell without changes\n",
    "stocks_monthly_df.shape"
   ]
  },
  {
   "cell_type": "markdown",
   "metadata": {},
   "source": [
    "### 4.3) Create a line graph that visualizes the monthly open stock prices from `stocks_monthly_df`.\n",
    "\n",
    "This is for the purposes of identifying if average monthly open stock price is stationary or not, using the rolling mean and rolling standard deviation.\n",
    "\n",
    "Store a sliced version of `stocks_monthly_df` which grabs the `open` column in a new object called `open_monthly_series`.\n",
    "\n",
    "Hint: use a window size of 3 to represent one quarter of a year"
   ]
  },
  {
   "cell_type": "code",
   "execution_count": 30,
   "metadata": {},
   "outputs": [],
   "source": [
    "# Replace None with appropriate code\n",
    "\n",
    "open_monthly_series = stocks_monthly_df['open']\n",
    "\n",
    "roll_mean = open_monthly_series.rolling(window = 3).mean()\n",
    "roll_std = open_monthly_series.rolling(window = 3).std()\n",
    "\n",
    "# Note: do not rename the variables otherwise the plot code will not work"
   ]
  },
  {
   "cell_type": "code",
   "execution_count": 31,
   "metadata": {},
   "outputs": [
    {
     "data": {
      "image/png": "[encoded data removed]",
      "text/plain": [
       "<Figure size 936x720 with 1 Axes>"
      ]
     },
     "metadata": {
      "needs_background": "light"
     },
     "output_type": "display_data"
    }
   ],
   "source": [
    "# Run this cell without changes\n",
    "fig, ax = plt.subplots(figsize=(13, 10))\n",
    "ax.plot(open_monthly_series, color='blue',label='Average monthly opening stock price')\n",
    "ax.plot(roll_mean, color='red', label='Rolling quarterly mean')\n",
    "ax.plot(roll_std, color='black', label='Rolling quarterly std. deviation')\n",
    "ax.set_ylim(0, 120)\n",
    "ax.legend()\n",
    "fig.suptitle('Average monthly open stock prices, Feb. 2013 to Feb. 2018')\n",
    "fig.tight_layout()"
   ]
  },
  {
   "cell_type": "markdown",
   "metadata": {},
   "source": [
    "Based on your visual inspection of the above graph, is the monthly open stock price stationary? Explain your answer"
   ]
  },
  {
   "cell_type": "code",
   "execution_count": 32,
   "metadata": {},
   "outputs": [
    {
     "data": {
      "text/plain": [
       "'\\n\\nThe monthly open stock price is not stationary because the rolling quarterly mean changes over time.\\n\\n'"
      ]
     },
     "execution_count": 32,
     "metadata": {},
     "output_type": "execute_result"
    }
   ],
   "source": [
    "\"\"\"\n",
    "\n",
    "The monthly open stock price is not stationary because the rolling quarterly mean changes over time.\n",
    "\n",
    "\"\"\""
   ]
  }
 ],
 "metadata": {
  "kernelspec": {
   "display_name": "Python 3",
   "language": "python",
   "name": "python3"
  },
  "language_info": {
   "codemirror_mode": {
    "name": "ipython",
    "version": 3
   },
   "file_extension": ".py",
   "mimetype": "text/x-python",
   "name": "python",
   "nbconvert_exporter": "python",
   "pygments_lexer": "ipython3",
   "version": "3.7.4"
  },
  "toc": {
   "base_numbering": 1,
   "nav_menu": {},
   "number_sections": true,
   "sideBar": true,
   "skip_h1_title": false,
   "title_cell": "Table of Contents",
   "title_sidebar": "Contents",
   "toc_cell": false,
   "toc_position": {},
   "toc_section_display": true,
   "toc_window_display": false
  }
 },
 "nbformat": 4,
 "nbformat_minor": 4
}
